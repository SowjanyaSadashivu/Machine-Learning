{
 "cells": [
  {
   "cell_type": "markdown",
   "id": "e1f9b8cd",
   "metadata": {},
   "source": [
    "#### Multiple Linear Regression\n",
    "\n",
    "- Multiple linear regression is a statistical technique used to model the relationship between a dependent variable and two or more independent variables.\n",
    "- It extends the concept of simple linear regression, which only considers one independent variable, to multiple predictors.\n",
    "- In multiple linear regression, the goal is to find the best-fitting linear equation that describes the relationship between the dependent variable and the independent variables.\n",
    "\n",
    "\n",
    "#### Step 1:\n",
    "### Data Preparation:\n",
    "- - The dataset contains more than one features(independent variables) and one target(dependent) variable.\n",
    "- - features are represented as 'x', with its weight/co-efficients as 'a' and dependent variable as 'y'.\n"
   ]
  },
  {
   "cell_type": "code",
   "execution_count": 24,
   "id": "b5e2d1a9",
   "metadata": {},
   "outputs": [],
   "source": [
    "import numpy as np\n",
    "\n",
    "X_train = np.array([[5, 10],\n",
    "              [6, 8],\n",
    "              [3, 10],\n",
    "              [6, 7],\n",
    "              [5, 5],\n",
    "              [13, 5]              \n",
    "                ])\n",
    "\n",
    "Y_train = np.array([[85],\n",
    "               [70],\n",
    "               [90],\n",
    "               [75],\n",
    "               [40],\n",
    "               [89]\n",
    "             ])\n",
    "\n",
    "X_test =  np.array([[5, 9],\n",
    "                  [2, 15]])\n",
    "\n",
    "Y_test = np.array([[75],\n",
    "               [98]])"
   ]
  },
  {
   "cell_type": "markdown",
   "id": "f2cc600d",
   "metadata": {},
   "source": [
    "#### Step 2:\n",
    "\n",
    "### Representation:\n",
    "- the model is represented as \n",
    "- Y = Xβ + ε\n",
    "- where Y = depenedent variable\n",
    "- X = independent variables\n",
    "- β = co-efficient/ weights\n",
    "- ε = error term\n",
    "- add a column of ones to X for t-intercept."
   ]
  },
  {
   "cell_type": "markdown",
   "id": "f9ee1921",
   "metadata": {},
   "source": [
    "- There are two independent variables X(x1, x2), and one dependent variable Y in the above example data."
   ]
  },
  {
   "cell_type": "markdown",
   "id": "c7dc04bb",
   "metadata": {},
   "source": [
    "#### Step 3:\n",
    "\n",
    "### Estimating Co-Efficient (β)\n",
    "- The goal is to estimate the coefficients β that minimize the sum of squared errors (SSE) between the actual values Y and the predicted values Xβ.\n",
    "- SSE = (Y - Xβ)'(Y - Xβ)\n",
    "- d(SSE) / dx = 0\n",
    "- we get X'Xβ = X'Y i.e., β = (1/X'X) * (X'Y)\n",
    "\n",
    "\n",
    "#### Step 4:\n",
    "### Predict Target value\n",
    "- calculate Y = Xβ "
   ]
  },
  {
   "cell_type": "code",
   "execution_count": 25,
   "id": "b4c6b7b8",
   "metadata": {},
   "outputs": [],
   "source": [
    "class MultipleLinearRegression:\n",
    "    def __init__(self):\n",
    "        self.weights = None\n",
    "        \n",
    "    def estimate_weights(self, X, Y):\n",
    "        #add ones column for y intercept to X dataset\n",
    "        ones = np.ones((X.shape[0], 1))\n",
    "        X = np.concatenate((ones, X), axis = 1)\n",
    "        self.weights = np.linalg.inv(X.T.dot(X)).dot(X.T).dot(Y) #(1/X'X) * (X'Y)\n",
    "    \n",
    "    def predict(self, X):\n",
    "        ones = np.ones((X.shape[0], 1))\n",
    "        X = np.concatenate((ones, X), axis = 1)\n",
    "        return X.dot(self.weights) #Y = Xβ\n",
    "    \n",
    "    def evaluate(self, X, Y):\n",
    "        predictions = self.predict(X)\n",
    "        mse = np.mean((Y - predictions) ** 2)\n",
    "        rmse = np.sqrt(mse)\n",
    "        return predictions, mse, rmse"
   ]
  },
  {
   "cell_type": "markdown",
   "id": "5b17be79",
   "metadata": {},
   "source": [
    "#### Step 5:\n",
    "\n",
    "### Evaluate Model\n",
    "\n",
    "Evalute the model by calculating Mean Squared Error, Root Mean Squared Error and R_Squared. The goal is to minimize the error."
   ]
  },
  {
   "cell_type": "code",
   "execution_count": 26,
   "id": "31c36846",
   "metadata": {},
   "outputs": [
    {
     "name": "stdout",
     "output_type": "stream",
     "text": [
      "prediction :  [[ 82.19444444]\n",
      " [124.27777778]]\n",
      "MSE :  371.1408179012156\n"
     ]
    }
   ],
   "source": [
    "# we will train the model using the current X and Y data set.\n",
    "# Ideally we need to divide the dataset into train, val and test.\n",
    "# since this is a simple example we are using the whole dataset to train the model and give new data to test the model.\n",
    "\n",
    "model = MultipleLinearRegression()\n",
    "model.estimate_weights(X_train, Y_train) #model_fitting\n",
    "\n",
    "prediction = model.predict(X_test)\n",
    "\n",
    "mse = np.mean((Y_test - prediction) ** 2)\n",
    "print('prediction : ', prediction)\n",
    "print('MSE : ', mse)\n",
    "\n",
    "\n"
   ]
  },
  {
   "cell_type": "code",
   "execution_count": null,
   "id": "74fe95c1",
   "metadata": {},
   "outputs": [],
   "source": [
    "## we need to increase the dataset to redu"
   ]
  },
  {
   "cell_type": "code",
   "execution_count": 27,
   "id": "132ab385",
   "metadata": {},
   "outputs": [],
   "source": [
    "#"
   ]
  }
 ],
 "metadata": {
  "kernelspec": {
   "display_name": "Python 3 (ipykernel)",
   "language": "python",
   "name": "python3"
  },
  "language_info": {
   "codemirror_mode": {
    "name": "ipython",
    "version": 3
   },
   "file_extension": ".py",
   "mimetype": "text/x-python",
   "name": "python",
   "nbconvert_exporter": "python",
   "pygments_lexer": "ipython3",
   "version": "3.9.13"
  }
 },
 "nbformat": 4,
 "nbformat_minor": 5
}
