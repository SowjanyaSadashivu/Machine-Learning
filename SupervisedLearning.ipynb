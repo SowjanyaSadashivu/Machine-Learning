{
 "cells": [
  {
   "attachments": {},
   "cell_type": "markdown",
   "metadata": {},
   "source": [
    "#### Supervised Learning\n",
    "- Supervised Learning is used whenever we want to predict the output from a given input, and we have examples of input/output pairs.\n",
    "- Two major types of supervised learning are Classification and Regression.\n",
    "- Classification : binary classification, multiclass classification.\n",
    "- binary classification : yes/no, 0/1, true/false, positive/negative kinda of outputs.\n",
    "- multiple classification : identifying the output among multiple classes.\n",
    "- regression : predict continuous no. \n",
    "- if there is a continuity in the output it is regression.\n",
    "- classigication output is not continuous. it is this or that."
   ]
  },
  {
   "attachments": {},
   "cell_type": "markdown",
   "metadata": {},
   "source": [
    "#### Generalization, Overfit and Underfit\n",
    "\n",
    "#### Generalization.\n",
    "\n",
    "- Generalize : If a model is able to make accurate predictions on unseen data, we say it is able to generalize from training set to test set.\n",
    "- The model should be able to generalize as accurately as possible.\n",
    "\n",
    "#### Overfitting\n",
    "\n",
    "- Building the model that is too complex for the amount of information we have.\n",
    "- Overfitting Occurs when we try to fit a model too closely to the taraining set.\n",
    "- model that best fits training data but breaks on new data.\n",
    "- the model that does not generalize to new data.\n",
    "\n",
    "#### Underfitting\n",
    "\n",
    "- choosing too simple model.\n",
    "\n",
    "- towards datascience: Dmytro Nikolaiev (Dimid) https://towardsdatascience.com/overfitting-and-underfitting-principles-ea8964d9c45c#:~:text=Underfitting%20means%20that%20your%20model\n",
    "- low bias, low variance — is a good result, just right.\n",
    "- low bias, high variance — overfitting — the algorithm outputs very different predictions for similar data.\n",
    "- high bias, low variance — underfitting — the algorithm outputs similar predictions for similar data, but predictions are wrong (algorithm “miss”).\n",
    "- high bias, high variance — very bad algorithm. You will most likely never see this.\n",
    "\n"
   ]
  },
  {
   "cell_type": "code",
   "execution_count": null,
   "metadata": {},
   "outputs": [],
   "source": []
  }
 ],
 "metadata": {
  "kernelspec": {
   "display_name": "base",
   "language": "python",
   "name": "python3"
  },
  "language_info": {
   "name": "python",
   "version": "3.9.13"
  },
  "orig_nbformat": 4,
  "vscode": {
   "interpreter": {
    "hash": "c13bdbd47bb1d59e639d08280367800f8bfd0da2507696b2c03601558fbc86b6"
   }
  }
 },
 "nbformat": 4,
 "nbformat_minor": 2
}
